{
  "nbformat": 4,
  "nbformat_minor": 0,
  "metadata": {
    "colab": {
      "name": "Iris-Classification.ipynb",
      "version": "0.3.2",
      "provenance": []
    },
    "kernelspec": {
      "name": "python3",
      "display_name": "Python 3"
    }
  },
  "cells": [
    {
      "cell_type": "code",
      "metadata": {
        "id": "Un-qWSMQwpig",
        "colab_type": "code",
        "colab": {}
      },
      "source": [
        "import pandas as pd\n",
        "import matplotlib.pyplot as plt\n",
        "from sklearn.linear_model import LogisticRegression\n",
        "from sklearn.model_selection import train_test_split\n",
        "from sklearn.preprocessing import LabelEncoder\n",
        "from sklearn.metrics import accuracy_score"
      ],
      "execution_count": 0,
      "outputs": []
    },
    {
      "cell_type": "code",
      "metadata": {
        "id": "wg0stmVczGMs",
        "colab_type": "code",
        "outputId": "ec0002ae-8c5d-4fcb-da0a-29914af53cdf",
        "colab": {
          "base_uri": "https://localhost:8080/",
          "height": 170
        }
      },
      "source": [
        "data = pd.read_csv('iris-data.csv')\n",
        "print(data.head())\n",
        "print(data.columns)"
      ],
      "execution_count": 4,
      "outputs": [
        {
          "output_type": "stream",
          "text": [
            "   sepal.length  sepal.width  petal.length  petal.width variety\n",
            "0           5.1          3.5           1.4          0.2  Setosa\n",
            "1           4.9          3.0           1.4          0.2  Setosa\n",
            "2           4.7          3.2           1.3          0.2  Setosa\n",
            "3           4.6          3.1           1.5          0.2  Setosa\n",
            "4           5.0          3.6           1.4          0.2  Setosa\n",
            "Index(['sepal.length', 'sepal.width', 'petal.length', 'petal.width',\n",
            "       'variety'],\n",
            "      dtype='object')\n"
          ],
          "name": "stdout"
        }
      ]
    },
    {
      "cell_type": "code",
      "metadata": {
        "id": "ufB95cLazfRQ",
        "colab_type": "code",
        "outputId": "ad147a40-efb2-44f6-c92a-cb256ba66746",
        "colab": {
          "base_uri": "https://localhost:8080/",
          "height": 119
        }
      },
      "source": [
        "encode = LabelEncoder()\n",
        "data.variety = encode.fit_transform(data.variety)\n",
        "print(data.head())"
      ],
      "execution_count": 10,
      "outputs": [
        {
          "output_type": "stream",
          "text": [
            "   sepal.length  sepal.width  petal.length  petal.width  variety\n",
            "0           5.1          3.5           1.4          0.2        0\n",
            "1           4.9          3.0           1.4          0.2        0\n",
            "2           4.7          3.2           1.3          0.2        0\n",
            "3           4.6          3.1           1.5          0.2        0\n",
            "4           5.0          3.6           1.4          0.2        0\n"
          ],
          "name": "stdout"
        }
      ]
    },
    {
      "cell_type": "code",
      "metadata": {
        "id": "zB0Gw-6H2rGB",
        "colab_type": "code",
        "outputId": "e044ea53-8b7f-4af4-a639-eeca5eae9b9b",
        "colab": {
          "base_uri": "https://localhost:8080/",
          "height": 51
        }
      },
      "source": [
        "train_x, test_x, train_y, test_y = train_test_split(data, data.variety, test_size=0.25, random_state=0)\n",
        "print(train_x.shape, train_y.shape)\n",
        "print(test_x.shape, test_y.shape)"
      ],
      "execution_count": 11,
      "outputs": [
        {
          "output_type": "stream",
          "text": [
            "(112, 5) (112,)\n",
            "(38, 5) (38,)\n"
          ],
          "name": "stdout"
        }
      ]
    },
    {
      "cell_type": "code",
      "metadata": {
        "id": "h-9481dw4OTq",
        "colab_type": "code",
        "outputId": "ae8fd0ea-d4f4-4ae8-cb03-c5f0c90254cc",
        "colab": {
          "base_uri": "https://localhost:8080/",
          "height": 102
        }
      },
      "source": [
        "model = LogisticRegression(solver='liblinear', multi_class='auto')\n",
        "model.fit(train_x, train_y)"
      ],
      "execution_count": 12,
      "outputs": [
        {
          "output_type": "execute_result",
          "data": {
            "text/plain": [
              "LogisticRegression(C=1.0, class_weight=None, dual=False, fit_intercept=True,\n",
              "                   intercept_scaling=1, l1_ratio=None, max_iter=100,\n",
              "                   multi_class='auto', n_jobs=None, penalty='l2',\n",
              "                   random_state=None, solver='liblinear', tol=0.0001, verbose=0,\n",
              "                   warm_start=False)"
            ]
          },
          "metadata": {
            "tags": []
          },
          "execution_count": 12
        }
      ]
    },
    {
      "cell_type": "code",
      "metadata": {
        "id": "tpSbAwYd5xHj",
        "colab_type": "code",
        "outputId": "74886f63-15dd-4777-cf9f-e6040926152a",
        "colab": {
          "base_uri": "https://localhost:8080/",
          "height": 136
        }
      },
      "source": [
        "predict = model.predict(test_x)\n",
        "print(encode.inverse_transform(predict))"
      ],
      "execution_count": 13,
      "outputs": [
        {
          "output_type": "stream",
          "text": [
            "['Virginica' 'Versicolor' 'Setosa' 'Virginica' 'Setosa' 'Virginica'\n",
            " 'Setosa' 'Versicolor' 'Versicolor' 'Versicolor' 'Virginica' 'Versicolor'\n",
            " 'Versicolor' 'Versicolor' 'Versicolor' 'Setosa' 'Versicolor' 'Versicolor'\n",
            " 'Setosa' 'Setosa' 'Virginica' 'Versicolor' 'Setosa' 'Setosa' 'Virginica'\n",
            " 'Setosa' 'Setosa' 'Versicolor' 'Versicolor' 'Setosa' 'Virginica'\n",
            " 'Versicolor' 'Setosa' 'Virginica' 'Virginica' 'Versicolor' 'Setosa'\n",
            " 'Versicolor']\n"
          ],
          "name": "stdout"
        }
      ]
    },
    {
      "cell_type": "code",
      "metadata": {
        "id": "awF1W0k26uP4",
        "colab_type": "code",
        "outputId": "cbb45b3a-c043-49c3-87ee-bcedfd9f8466",
        "colab": {
          "base_uri": "https://localhost:8080/",
          "height": 34
        }
      },
      "source": [
        "print(accuracy_score(test_y, predict))"
      ],
      "execution_count": 14,
      "outputs": [
        {
          "output_type": "stream",
          "text": [
            "1.0\n"
          ],
          "name": "stdout"
        }
      ]
    },
    {
      "cell_type": "code",
      "metadata": {
        "id": "Cm8mUxsQe25M",
        "colab_type": "code",
        "colab": {}
      },
      "source": [
        "setosa = data.loc[data.variety==0]\n",
        "versicolor = data.loc[data.variety==1]\n",
        "virginica = data.loc[data.variety==2]"
      ],
      "execution_count": 0,
      "outputs": []
    },
    {
      "cell_type": "code",
      "metadata": {
        "id": "T4u3DEaHfM2S",
        "colab_type": "code",
        "colab": {
          "base_uri": "https://localhost:8080/",
          "height": 269
        },
        "outputId": "1d13030d-4d77-480a-fb50-c7ab19f119fd"
      },
      "source": [
        "plt.scatter(setosa.iloc[:, 0], setosa.iloc[:, 1], s=10, label='Setosa')\n",
        "plt.scatter(versicolor.iloc[:, 0], versicolor.iloc[:, 1], s=10, label='Versicolor')\n",
        "plt.scatter(virginica.iloc[:, 0], virginica.iloc[:, 1], s=10, label='Virginica')\n",
        "plt.legend()\n",
        "plt.show()"
      ],
      "execution_count": 17,
      "outputs": [
        {
          "output_type": "display_data",
          "data": {
            "image/png": "[encoded data removed]",
            "text/plain": [
              "<Figure size 432x288 with 1 Axes>"
            ]
          },
          "metadata": {
            "tags": []
          }
        }
      ]
    }
  ]
}