{
  "nbformat": 4,
  "nbformat_minor": 0,
  "metadata": {
    "colab": {
      "name": "Collaborative-Recommender-System.ipynb",
      "provenance": []
    },
    "kernelspec": {
      "name": "python3",
      "display_name": "Python 3"
    }
  },
  "cells": [
    {
      "cell_type": "markdown",
      "metadata": {
        "id": "Mb6JYEFHp7Dp",
        "colab_type": "text"
      },
      "source": [
        "Libraries"
      ]
    },
    {
      "cell_type": "code",
      "metadata": {
        "id": "phEDiEq3qBeG",
        "colab_type": "code",
        "colab": {}
      },
      "source": [
        "import numpy as np\n",
        "import pandas as pd\n",
        "import itertools as it\n",
        "import time"
      ],
      "execution_count": 0,
      "outputs": []
    },
    {
      "cell_type": "markdown",
      "metadata": {
        "id": "KXch_qkOpteM",
        "colab_type": "text"
      },
      "source": [
        "Similarity using Pearson Co-efficient"
      ]
    },
    {
      "cell_type": "code",
      "metadata": {
        "id": "9n6M5uccpc_H",
        "colab_type": "code",
        "colab": {}
      },
      "source": [
        "def pearson_coefficient(user_1, user_2, pos_1, pos_2):\n",
        "  avg_1, avg_2 = means[pos_1], means[pos_2]\n",
        "  numerator, denominator_1, denominator_2 = 0, 0, 0\n",
        "  for i in range(user_1.size):\n",
        "    numerator += (user_1[i]-avg_1)*(user_2[i]-avg_2)\n",
        "    denominator_1 += (user_1[i]-avg_1)**2\n",
        "    denominator_2 += (user_2[i]-avg_2)**2\n",
        "  return numerator/(np.sqrt(denominator_1)*np.sqrt(denominator_2))"
      ],
      "execution_count": 0,
      "outputs": []
    },
    {
      "cell_type": "markdown",
      "metadata": {
        "id": "V9-5WY_iHzlG",
        "colab_type": "text"
      },
      "source": [
        "Data"
      ]
    },
    {
      "cell_type": "code",
      "metadata": {
        "id": "m-v30xfjH1Cx",
        "colab_type": "code",
        "colab": {}
      },
      "source": [
        "df = pd.read_csv('../data/user-ratings.csv')\n",
        "data = df.to_numpy()[:, 1:]\n",
        "means = list(map(np.mean, data))"
      ],
      "execution_count": 0,
      "outputs": []
    },
    {
      "cell_type": "markdown",
      "metadata": {
        "id": "98D8YzVNztm6",
        "colab_type": "text"
      },
      "source": [
        "Main Function"
      ]
    },
    {
      "cell_type": "code",
      "metadata": {
        "id": "wJObIJC4ulF9",
        "colab_type": "code",
        "outputId": "b54134e5-85dd-4895-8af0-d51349bd338d",
        "colab": {
          "base_uri": "https://localhost:8080/",
          "height": 374
        }
      },
      "source": [
        "length = len(data)\n",
        "start = time.time()\n",
        "similarity = [pearson_coefficient(data[i], data[j], i, j) for i, j in it.product(range(length), repeat = 2)]\n",
        "similarity = np.asarray(similarity).reshape(length, length)\n",
        "print('Time taken-', time.time()-start, 's')\n",
        "print(similarity)"
      ],
      "execution_count": 98,
      "outputs": [
        {
          "output_type": "stream",
          "text": [
            "Time taken- 0.0008058547973632812 s\n",
            "[[ 1.          0.46770717 -0.84375     0.48995593  0.94324222 -0.9001488\n",
            "   0.22116293 -0.77174363  0.2941742   0.03686049]\n",
            " [ 0.46770717  1.          0.03340766 -0.16116459  0.64168895 -0.46656947\n",
            "   0.07881104 -0.04583492 -0.68138514 -0.51227176]\n",
            " [-0.84375     0.03340766  1.         -0.77262282 -0.72886899  0.83195571\n",
            "  -0.40546538  0.87893025 -0.66189196 -0.22116293]\n",
            " [ 0.48995593 -0.16116459 -0.77262282  1.          0.41367015 -0.6415029\n",
            "   0.84465303 -0.49123331  0.38435306 -0.26673253]\n",
            " [ 0.94324222  0.64168895 -0.72886899  0.41367015  1.         -0.95431352\n",
            "   0.30343304 -0.76470588  0.06726728 -0.07585826]\n",
            " [-0.9001488  -0.46656947  0.83195571 -0.6415029  -0.95431352  1.\n",
            "  -0.5308788   0.82332931 -0.1711842   0.11261065]\n",
            " [ 0.22116293  0.07881104 -0.40546538  0.84465303  0.30343304 -0.5308788\n",
            "   1.         -0.20228869 -0.11566299 -0.63043478]\n",
            " [-0.77174363 -0.04583492  0.87893025 -0.49123331 -0.76470588  0.82332931\n",
            "  -0.20228869  1.         -0.60540551 -0.45514956]\n",
            " [ 0.2941742  -0.68138514 -0.66189196  0.38435306  0.06726728 -0.1711842\n",
            "  -0.11566299 -0.60540551  1.          0.75180941]\n",
            " [ 0.03686049 -0.51227176 -0.22116293 -0.26673253 -0.07585826  0.11261065\n",
            "  -0.63043478 -0.45514956  0.75180941  1.        ]]\n"
          ],
          "name": "stdout"
        }
      ]
    }
  ]
}
